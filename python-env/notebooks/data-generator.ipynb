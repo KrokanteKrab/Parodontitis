{
 "cells": [
  {
   "cell_type": "markdown",
   "source": [
    "NOTE: This notebook is outdated"
   ],
   "metadata": {
    "collapsed": false
   }
  },
  {
   "cell_type": "markdown",
   "source": [
    "# Imports"
   ],
   "metadata": {
    "collapsed": false
   }
  },
  {
   "cell_type": "code",
   "execution_count": 5,
   "metadata": {
    "collapsed": true
   },
   "outputs": [],
   "source": [
    "import sys\n",
    "sys.path.append('..')\n",
    "from scripts.extract import convert_xml_to_dataframe\n",
    "from pathlib import Path\n",
    "from random import randrange\n",
    "from datetime import timedelta, datetime, date\n",
    "\n",
    "import pandas as pd\n",
    "import random"
   ]
  },
  {
   "cell_type": "code",
   "execution_count": 6,
   "outputs": [],
   "source": [
    "random.seed(1) # <- Training\n",
    "# random.seed(2) # <- Validation"
   ],
   "metadata": {
    "collapsed": false
   }
  },
  {
   "cell_type": "markdown",
   "source": [
    "# Functions"
   ],
   "metadata": {
    "collapsed": false
   }
  },
  {
   "cell_type": "code",
   "execution_count": 7,
   "outputs": [],
   "source": [
    "def random_date(start, end):\n",
    "    \"\"\"\n",
    "    This function will return a random datetime between two datetime\n",
    "    objects.\n",
    "    \"\"\"\n",
    "    delta = end - start\n",
    "    int_delta = (delta.days * 24 * 60 * 60) + delta.seconds\n",
    "    random_second = randrange(int_delta)\n",
    "    return start + timedelta(seconds=random_second)\n",
    "\n",
    "def calculate_age(born):\n",
    "    today = date.today()\n",
    "    return today.year - born.year - ((today.month, today.day) < (born.month, born.day))"
   ],
   "metadata": {
    "collapsed": false
   }
  },
  {
   "cell_type": "markdown",
   "source": [
    "# Read data from xml"
   ],
   "metadata": {
    "collapsed": false
   }
  },
  {
   "cell_type": "code",
   "execution_count": 8,
   "outputs": [],
   "source": [
    "df = convert_xml_to_dataframe(path='../_shared/data/generated/patients-original.xml')"
   ],
   "metadata": {
    "collapsed": false
   }
  },
  {
   "cell_type": "markdown",
   "source": [
    "## Version 2 Generator"
   ],
   "metadata": {
    "collapsed": false
   }
  },
  {
   "cell_type": "code",
   "execution_count": 9,
   "outputs": [
    {
     "data": {
      "text/plain": "Empty DataFrame\nColumns: [PATIENT_ID, BIRTH_DATE, VISIT_DATE, BLEEDING_ON_PROBING, NR_OF_POCKET, NR_OF_FURCATION, NR_OF_MOBILITY, TOTAL_LOSS_OF_ATTACHMENT_LEVEL, HAS_PARODONTITIS, GENDER_MALE, GENDER_FEMALE, AGE_RANGE_20, AGE_RANGE_40, AGE_RANGE_60, PROCEDURE_A, PROCEDURE_B, TREATING_PROVIDER_DENTIST, TREATING_PROVIDER_FACULTY, TREATING_PROVIDER_STUDENT, NOICE_MODIFIED, STUDENT_ERROR]\nIndex: []\n\n[0 rows x 21 columns]",
      "text/html": "<div>\n<style scoped>\n    .dataframe tbody tr th:only-of-type {\n        vertical-align: middle;\n    }\n\n    .dataframe tbody tr th {\n        vertical-align: top;\n    }\n\n    .dataframe thead th {\n        text-align: right;\n    }\n</style>\n<table border=\"1\" class=\"dataframe\">\n  <thead>\n    <tr style=\"text-align: right;\">\n      <th></th>\n      <th>PATIENT_ID</th>\n      <th>BIRTH_DATE</th>\n      <th>VISIT_DATE</th>\n      <th>BLEEDING_ON_PROBING</th>\n      <th>NR_OF_POCKET</th>\n      <th>NR_OF_FURCATION</th>\n      <th>NR_OF_MOBILITY</th>\n      <th>TOTAL_LOSS_OF_ATTACHMENT_LEVEL</th>\n      <th>HAS_PARODONTITIS</th>\n      <th>GENDER_MALE</th>\n      <th>...</th>\n      <th>AGE_RANGE_20</th>\n      <th>AGE_RANGE_40</th>\n      <th>AGE_RANGE_60</th>\n      <th>PROCEDURE_A</th>\n      <th>PROCEDURE_B</th>\n      <th>TREATING_PROVIDER_DENTIST</th>\n      <th>TREATING_PROVIDER_FACULTY</th>\n      <th>TREATING_PROVIDER_STUDENT</th>\n      <th>NOICE_MODIFIED</th>\n      <th>STUDENT_ERROR</th>\n    </tr>\n  </thead>\n  <tbody>\n  </tbody>\n</table>\n<p>0 rows × 21 columns</p>\n</div>"
     },
     "execution_count": 9,
     "metadata": {},
     "output_type": "execute_result"
    }
   ],
   "source": [
    "# Add boolean for procedures to the dataframe\n",
    "df['GENDER_MALE'] = [0]\n",
    "df['GENDER_FEMALE'] = [0]\n",
    "df['AGE_RANGE_20'] = [0]\n",
    "df['AGE_RANGE_40'] = [0]\n",
    "df['AGE_RANGE_60'] = [0]\n",
    "df['PROCEDURE_A'] = [0]\n",
    "df['PROCEDURE_B'] = [0]\n",
    "df['TREATING_PROVIDER_DENTIST'] = [1]\n",
    "df['TREATING_PROVIDER_FACULTY'] = [0]\n",
    "df['TREATING_PROVIDER_STUDENT'] = [0]\n",
    "df['NOICE_MODIFIED'] = [0]\n",
    "df['STUDENT_ERROR'] = [0]\n",
    "df = df.drop(['SEX', 'TREATING_PROVIDER'], axis=1)\n",
    "df = df.drop(0)\n",
    "df.head()"
   ],
   "metadata": {
    "collapsed": false
   }
  },
  {
   "cell_type": "code",
   "execution_count": 10,
   "outputs": [],
   "source": [
    "for i in range(100000):\n",
    "    has_parodontitis = random.randint(0, 2)\n",
    "    patient_id = 5999977 + i\n",
    "    treating_provider = random.choice(['dentist', 'faculty', 'student'])\n",
    "\n",
    "    # Procedures\n",
    "    procedures_a = 0\n",
    "    procedures_b = random.randint(0, 1)\n",
    "\n",
    "    # Birthdate\n",
    "    d1 = datetime.strptime('1-1-1950', '%d-%m-%Y').date()\n",
    "    d2 = datetime.strptime('1-1-2002', '%d-%m-%Y').date()\n",
    "    birth_date = random_date(d1, d2)\n",
    "    age = calculate_age(birth_date)\n",
    "\n",
    "    # Gender\n",
    "    gender = random.choice(['female', 'male'])\n",
    "\n",
    "    row = {\n",
    "        'PATIENT_ID': patient_id,\n",
    "        'GENDER_MALE': int(gender == 'male' if 1 else 0),\n",
    "        'GENDER_FEMALE': int(gender == 'female' if 1 else 0),\n",
    "        'BIRTH_DATE': birth_date,\n",
    "        'AGE_RANGE_20': int(20 <= age < 40 if 1 else 0),\n",
    "        'AGE_RANGE_40': int(40 <= age < 60 if 1 else 0),\n",
    "        'AGE_RANGE_60': int(age >= 60 if 1 else 0),\n",
    "        'VISIT_DATE': '15-01-2008',\n",
    "        'TREATING_PROVIDER_DENTIST': int(treating_provider == 'dentist' if 1 else 0),\n",
    "        'TREATING_PROVIDER_FACULTY': int(treating_provider == 'faculty' if 1 else 0),\n",
    "        'TREATING_PROVIDER_STUDENT': int(treating_provider == 'student' if 1 else 0),\n",
    "        'PROCEDURE_A': procedures_a,\n",
    "        'PROCEDURE_B': procedures_b,\n",
    "        'BLEEDING_ON_PROBING': random.randint(0, 25),       # percentage of bleeding (0-100)\n",
    "        'NR_OF_POCKET': random.randint(0, 1),               # scale 0-4\n",
    "        'NR_OF_FURCATION': 0,                               # >0 parodontitis, scale 0-5\n",
    "        'NR_OF_MOBILITY': random.randint(0, 1),\n",
    "        'TOTAL_LOSS_OF_ATTACHMENT_LEVEL': 0,\n",
    "        'HAS_PARODONTITIS': 0,\n",
    "        # For debug purposes only\n",
    "        'NOICE_MODIFIED': 0,\n",
    "        'STUDENT_ERROR': 0,\n",
    "    }\n",
    "\n",
    "    if has_parodontitis == 1 or (random.randint(0, 100) <= 40 and row['AGE_RANGE_40'] == 1) or (random.randint(0, 100) <= 60 and row['AGE_RANGE_60'] == 1):\n",
    "        row['BLEEDING_ON_PROBING'] = random.randint(20, 100)\n",
    "        row['NR_OF_POCKET'] = random.randint(1, 4)\n",
    "        row['NR_OF_FURCATION'] = random.randint(1, 5)\n",
    "        row['NR_OF_MOBILITY'] = random.randint(2, 3)\n",
    "        row['TOTAL_LOSS_OF_ATTACHMENT_LEVEL'] = random.randint(1, 3)\n",
    "        row['HAS_PARODONTITIS'] = 1\n",
    "\n",
    "        # Someone with parodontitis has a 70% chance to have had procedure A\n",
    "        if random.randint(0, 100) <= 70:\n",
    "            row['PROCEDURE_A'] = 1\n",
    "\n",
    "        # Add some noice to the data\n",
    "        if random.randint(0, 100) <= 2:\n",
    "            row['HAS_PARODONTITIS'] = 0\n",
    "            row['NOICE_MODIFIED'] = 1\n",
    "\n",
    "        # A student has a 50% chance to make an error\n",
    "        if random.randint(0, 100) <= 50 and row['TREATING_PROVIDER_STUDENT'] == 1:\n",
    "            row['HAS_PARODONTITIS'] = 0\n",
    "            row['STUDENT_ERROR'] = 1\n",
    "\n",
    "    new_record = pd.DataFrame(row, index=[0])\n",
    "    df = pd.concat([df, new_record], ignore_index=True)"
   ],
   "metadata": {
    "collapsed": false
   }
  },
  {
   "cell_type": "markdown",
   "source": [
    "## Check amount of total people having parodontitis"
   ],
   "metadata": {
    "collapsed": false
   }
  },
  {
   "cell_type": "code",
   "execution_count": 11,
   "outputs": [
    {
     "name": "stdout",
     "output_type": "stream",
     "text": [
      "People without parodontitis: 56592\n",
      "People with parodontitis: 43408\n"
     ]
    }
   ],
   "source": [
    "amount_of_people_without_parodontitis = df[df[\"HAS_PARODONTITIS\"] == 0]\n",
    "amount_of_people_with_parodontitis = df[df[\"HAS_PARODONTITIS\"] == 1]\n",
    "print(f'People without parodontitis: {len(amount_of_people_without_parodontitis)}')\n",
    "print(f'People with parodontitis: {len(amount_of_people_with_parodontitis)}')"
   ],
   "metadata": {
    "collapsed": false
   }
  },
  {
   "cell_type": "code",
   "execution_count": 12,
   "outputs": [],
   "source": [
    "filepath = Path('../_shared/data/generated/patients-v6.csv')\n",
    "filepath.parent.mkdir(parents=True, exist_ok=True)\n",
    "df.to_csv(filepath, index=False)"
   ],
   "metadata": {
    "collapsed": false
   }
  }
 ],
 "metadata": {
  "kernelspec": {
   "display_name": "Python 3",
   "language": "python",
   "name": "python3"
  },
  "language_info": {
   "codemirror_mode": {
    "name": "ipython",
    "version": 2
   },
   "file_extension": ".py",
   "mimetype": "text/x-python",
   "name": "python",
   "nbconvert_exporter": "python",
   "pygments_lexer": "ipython2",
   "version": "2.7.6"
  }
 },
 "nbformat": 4,
 "nbformat_minor": 0
}
