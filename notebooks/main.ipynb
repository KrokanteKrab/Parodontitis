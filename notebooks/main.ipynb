{
 "cells": [
  {
   "cell_type": "markdown",
   "source": [
    "# Imports"
   ],
   "metadata": {
    "collapsed": false,
    "pycharm": {
     "name": "#%% md\n"
    }
   }
  },
  {
   "cell_type": "code",
   "execution_count": null,
   "outputs": [],
   "source": [
    "from sklearn.model_selection import train_test_split\n",
    "from keras.models import Sequential\n",
    "from keras.layers import Input, Dense, Normalization, Dropout\n",
    "from keras.optimizers import Adam, SGD\n",
    "from keras.losses import SparseCategoricalCrossentropy\n",
    "from keras.metrics import FalsePositives\n",
    "\n",
    "import shap\n",
    "import pandas as pd\n",
    "import numpy as np\n",
    "import matplotlib.pyplot as plt\n",
    "\n",
    "import wandb\n",
    "from wandb.keras import WandbCallback"
   ],
   "metadata": {
    "collapsed": false,
    "pycharm": {
     "name": "#%%\n"
    }
   }
  },
  {
   "cell_type": "code",
   "execution_count": null,
   "outputs": [],
   "source": [
    "sweep_config = {\n",
    "    'method': \"bayes\",\n",
    "    'metric': {\n",
    "        'name': 'loss',\n",
    "        'goal': 'minimize',\n",
    "    },\n",
    "    'parameters': {\n",
    "        \"optimizer\": {\n",
    "            \"values\": ['adam', 'sgd']\n",
    "        },\n",
    "        \"nodes\": {\n",
    "            \"values\": [64, 128, 256, 512, 1024]\n",
    "        },\n",
    "        \"epochs\": {\n",
    "            'max': 30, 'min': 10\n",
    "        },\n",
    "        \"learning_rate\": {\n",
    "            'max': 0.01, 'min': 0.00001\n",
    "        },\n",
    "        \"batch_size\": {\n",
    "            'values': [16, 32, 64]\n",
    "        },\n",
    "        \"layers\": {\n",
    "            'max': 6, 'min': 1\n",
    "        },\n",
    "        'dropout': {\n",
    "            'values': [0.3, 0.4, 0.5]\n",
    "        },\n",
    "    },\n",
    "}"
   ],
   "metadata": {
    "collapsed": false,
    "pycharm": {
     "name": "#%%\n"
    }
   }
  },
  {
   "cell_type": "code",
   "execution_count": null,
   "outputs": [],
   "source": [
    "wandb.login(key=\"50fdec0adbfaf9ef335c8ec6c0446e412c23a452\")\n",
    "sweep_id = wandb.sweep(sweep_config, project=\"parodontitis\")"
   ],
   "metadata": {
    "collapsed": false,
    "pycharm": {
     "name": "#%%\n"
    }
   }
  },
  {
   "cell_type": "code",
   "execution_count": null,
   "outputs": [],
   "source": [
    "RANDOM_STATE = 1"
   ],
   "metadata": {
    "collapsed": false,
    "pycharm": {
     "name": "#%%\n"
    }
   }
  },
  {
   "cell_type": "markdown",
   "source": [
    "# Load data"
   ],
   "metadata": {
    "collapsed": false,
    "pycharm": {
     "name": "#%% md\n"
    }
   }
  },
  {
   "cell_type": "code",
   "execution_count": null,
   "outputs": [],
   "source": [
    "# df = convert_xml_to_dataframe()\n",
    "df = pd.read_csv('../data/patients-v2.csv')\n",
    "\n",
    "X = df[[\n",
    "    # 'PATIENT_ID',\n",
    "    # 'SEX',\n",
    "    # 'BIRTH_DATE',\n",
    "    # 'VISIT_DATE',\n",
    "    'TREATING_PROVIDER_DENTIST',\n",
    "    'TREATING_PROVIDER_FACULTY',\n",
    "    'TREATING_PROVIDER_STUDENT',\n",
    "    'PROCEDURE_A',\n",
    "    'PROCEDURE_B',\n",
    "    'BLEEDING_ON_PROBING',\n",
    "    'NR_OF_POCKET',\n",
    "    'NR_OF_FURCATION',\n",
    "    'NR_OF_MOBILITY',\n",
    "    'TOTAL_LOSS_OF_ATTACHMENT_LEVEL'\n",
    "]]\n",
    "\n",
    "y = df[[\n",
    "    'HAS_PARODONTITIS'\n",
    "]]\n",
    "# df.head()"
   ],
   "metadata": {
    "collapsed": false
   }
  },
  {
   "cell_type": "markdown",
   "source": [
    "# Split train and test data"
   ],
   "metadata": {
    "collapsed": false,
    "pycharm": {
     "name": "#%% md\n"
    }
   }
  },
  {
   "cell_type": "code",
   "execution_count": null,
   "outputs": [],
   "source": [
    "X_train, X_test, y_train, y_test = train_test_split(X, y, test_size=0.3, stratify=y, random_state=RANDOM_STATE)"
   ],
   "metadata": {
    "collapsed": false,
    "pycharm": {
     "name": "#%%\n"
    }
   }
  },
  {
   "cell_type": "code",
   "execution_count": null,
   "outputs": [],
   "source": [
    "y_train_without_parodontitis = y_train[y_train[\"HAS_PARODONTITIS\"] == 0]\n",
    "y_test_without_parodontitis = y_test[y_test[\"HAS_PARODONTITIS\"] == 0]\n",
    "\n",
    "print(f'y_train: {(100/len(y_train)) * len(y_train_without_parodontitis)}% without parodontitis')\n",
    "print(f'y_test: {(100/len(y_test)) * len(y_test_without_parodontitis)}% without parodontitis')"
   ],
   "metadata": {
    "collapsed": false,
    "pycharm": {
     "name": "#%%\n"
    }
   }
  },
  {
   "cell_type": "markdown",
   "source": [
    "# Normalization"
   ],
   "metadata": {
    "collapsed": false,
    "pycharm": {
     "name": "#%% md\n"
    }
   }
  },
  {
   "cell_type": "code",
   "execution_count": null,
   "outputs": [],
   "source": [
    "normalizer = Normalization(axis=-1)\n",
    "normalizer.adapt(np.array(X_train))"
   ],
   "metadata": {
    "collapsed": false,
    "pycharm": {
     "name": "#%%\n"
    }
   }
  },
  {
   "cell_type": "markdown",
   "source": [
    "# Training"
   ],
   "metadata": {
    "collapsed": false,
    "pycharm": {
     "name": "#%% md\n"
    }
   }
  },
  {
   "cell_type": "code",
   "execution_count": null,
   "outputs": [],
   "source": [
    "def train():\n",
    "    default_config={\n",
    "        \"optimizer\": 'adam',\n",
    "        \"nodes\":128,\n",
    "        \"epochs\": 1,\n",
    "        \"learning_rate\": 1e-2,\n",
    "        \"batch_size\": 32,\n",
    "        \"layers\": 2,\n",
    "        \"dropout\": 0.4\n",
    "    }\n",
    "\n",
    "    wandb.init(config=default_config)\n",
    "    config = wandb.config\n",
    "\n",
    "    batch_size = config.batch_size\n",
    "    epochs = config.epochs\n",
    "    learning_rate = config.learning_rate\n",
    "    nodes = config.nodes\n",
    "    optimizer = config.optimizer\n",
    "    layers = config.layers\n",
    "    dropout = config.dropout\n",
    "\n",
    "    if config.optimizer == 'adam':\n",
    "        optimizer = Adam(lr=learning_rate)\n",
    "    elif config.optimizer == 'sgd':\n",
    "        optimizer = SGD(lr=learning_rate)\n",
    "\n",
    "    model = Sequential()\n",
    "\n",
    "    model.add(Input(shape=(X_train.shape[1],)))\n",
    "    model.add(normalizer)\n",
    "\n",
    "    for i in range(layers):\n",
    "        model.add(Dense(nodes, activation='relu'))\n",
    "        model.add(Dropout(dropout))\n",
    "\n",
    "    model.add(Dense(2, activation='softmax'))\n",
    "\n",
    "    model.compile(\n",
    "        optimizer=optimizer,\n",
    "        loss=SparseCategoricalCrossentropy(),\n",
    "        metrics=['accuracy']\n",
    "    )\n",
    "\n",
    "    model.fit(X_train, y_train, epochs=epochs, batch_size=batch_size, callbacks=[WandbCallback()])\n",
    "    model.save('models/parodontitis_sparse_categorical_classifier.h5', overwrite=True)\n",
    "    wandb.log_artifact('models/parodontitis_sparse_categorical_classifier.h5', name='run_' + wandb.run.id + '_model', type='model')"
   ],
   "metadata": {
    "collapsed": false,
    "pycharm": {
     "name": "#%%\n"
    }
   }
  },
  {
   "cell_type": "code",
   "execution_count": null,
   "outputs": [],
   "source": [
    "wandb.agent(sweep_id, train, count=5)"
   ],
   "metadata": {
    "collapsed": false,
    "pycharm": {
     "name": "#%%\n"
    }
   }
  },
  {
   "cell_type": "markdown",
   "source": [
    "# Saving the model"
   ],
   "metadata": {
    "collapsed": false,
    "pycharm": {
     "name": "#%% md\n"
    }
   }
  },
  {
   "cell_type": "code",
   "execution_count": null,
   "outputs": [],
   "source": [
    "# Download your Model Version files\n",
    "# wandb.init()\n",
    "# path = wandb.use_artifact('parodontitis/run_9c859hs6_model:v0').download()\n",
    "\n",
    "# Reconstruct your model object in memory:\n",
    "# `make_model_from_data` below represents your deserialization logic\n",
    "# to load in a model from disk\n",
    "from keras.models import load_model\n",
    "model = load_model('models/parodontitis_binary_classifier.h5')"
   ],
   "metadata": {
    "collapsed": false,
    "pycharm": {
     "name": "#%%\n"
    }
   }
  },
  {
   "cell_type": "markdown",
   "source": [
    "## Validation using the test set"
   ],
   "metadata": {
    "collapsed": false,
    "pycharm": {
     "name": "#%% md\n"
    }
   }
  },
  {
   "cell_type": "code",
   "execution_count": null,
   "outputs": [],
   "source": [
    "result = model.predict(X_test)\n",
    "result = pd.DataFrame(result)\n",
    "\n",
    "print(result)\n",
    "result['PREDICTION'] = result.apply(lambda x: 0 if x.loc[0] > x.loc[1] else 1, axis=1)\n",
    "\n",
    "y_test = y_test.reset_index()\n",
    "y_test['PREDICTION'] = result['PREDICTION']\n",
    "\n",
    "validation_result = y_test[['PREDICTION', 'HAS_PARODONTITIS']]"
   ],
   "metadata": {
    "collapsed": false,
    "pycharm": {
     "name": "#%%\n"
    }
   }
  },
  {
   "cell_type": "code",
   "execution_count": null,
   "outputs": [],
   "source": [
    "wrong_prediction = validation_result[validation_result[\"HAS_PARODONTITIS\"] != validation_result['PREDICTION']]\n",
    "print(f\"Predicted wrong: {len(wrong_prediction)}/{len(validation_result)}\")"
   ],
   "metadata": {
    "collapsed": false,
    "pycharm": {
     "name": "#%%\n"
    }
   }
  },
  {
   "cell_type": "markdown",
   "source": [
    "# SHAP"
   ],
   "metadata": {
    "collapsed": false,
    "pycharm": {
     "name": "#%% md\n"
    }
   }
  },
  {
   "cell_type": "code",
   "execution_count": null,
   "outputs": [],
   "source": [
    "shap.initjs()"
   ],
   "metadata": {
    "collapsed": false,
    "pycharm": {
     "name": "#%%\n"
    }
   }
  },
  {
   "cell_type": "code",
   "execution_count": null,
   "outputs": [],
   "source": [
    "shap_explainer = shap.KernelExplainer(model, X_train[:100])\n",
    "\n",
    "sample = np.array(X_train.iloc[1])\n",
    "# sample = np.array([2,2,0,0,1]) # <- playable sample\n",
    "\n",
    "shap_values = shap_explainer.shap_values(sample)\n",
    "\n",
    "# Label: has not parodontitis\n",
    "shap.force_plot(\n",
    "    shap_explainer.expected_value[0], shap_values[0], sample, matplotlib=True, show=False, plot_cmap=['#77dd77', '#f99191'], feature_names=X_train.columns\n",
    ")\n",
    "\n",
    "# Label: has parodontitis\n",
    "shap.force_plot(\n",
    "    shap_explainer.expected_value[1], shap_values[1], sample, matplotlib=True, show=False, plot_cmap=['#77dd77', '#f99191'], feature_names=X_train.columns\n",
    ")\n",
    "\n",
    "plt.show()"
   ],
   "metadata": {
    "collapsed": false,
    "pycharm": {
     "name": "#%%\n"
    }
   }
  },
  {
   "cell_type": "code",
   "execution_count": null,
   "outputs": [],
   "source": [],
   "metadata": {
    "collapsed": false,
    "pycharm": {
     "name": "#%%\n"
    }
   }
  }
 ],
 "metadata": {
  "kernelspec": {
   "display_name": "Python 3",
   "language": "python",
   "name": "python3"
  },
  "language_info": {
   "codemirror_mode": {
    "name": "ipython",
    "version": 2
   },
   "file_extension": ".py",
   "mimetype": "text/x-python",
   "name": "python",
   "nbconvert_exporter": "python",
   "pygments_lexer": "ipython2",
   "version": "2.7.6"
  }
 },
 "nbformat": 4,
 "nbformat_minor": 0
}
