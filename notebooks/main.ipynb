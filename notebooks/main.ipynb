{
 "cells": [
  {
   "cell_type": "markdown",
   "source": [
    "# Imports"
   ],
   "metadata": {
    "collapsed": false
   }
  },
  {
   "cell_type": "code",
   "execution_count": 64,
   "metadata": {
    "collapsed": true
   },
   "outputs": [],
   "source": [
    "from scripts.extract import convert_xml_to_dataframe\n",
    "from sklearn.model_selection import train_test_split\n",
    "from keras.models import Sequential\n",
    "from keras.layers import Input, Dense, Normalization\n",
    "from keras.optimizers import Adam\n",
    "from keras.losses import SparseCategoricalCrossentropy\n",
    "from datetime import datetime\n",
    "\n",
    "import pandas as pd\n",
    "import numpy as np\n",
    "import matplotlib.pyplot as plt"
   ]
  },
  {
   "cell_type": "code",
   "execution_count": 65,
   "outputs": [],
   "source": [
    "RANDOM_STATE = 1"
   ],
   "metadata": {
    "collapsed": false
   }
  },
  {
   "cell_type": "markdown",
   "source": [
    "# Load data"
   ],
   "metadata": {
    "collapsed": false
   }
  },
  {
   "cell_type": "code",
   "execution_count": 66,
   "outputs": [],
   "source": [
    "# df = convert_xml_to_dataframe()\n",
    "df = pd.read_csv('../data/patients.csv')\n",
    "\n",
    "X = df[[\n",
    "    # 'PATIENT_ID',\n",
    "    # 'SEX',\n",
    "    # 'BIRTH_DATE',\n",
    "    # 'VISIT_DATE',\n",
    "    # 'TREATING_PROVIDER',\n",
    "    'BLEEDING_ON_PROBING',\n",
    "    'NR_OF_POCKET',\n",
    "    'NR_OF_FURCATION',\n",
    "    'NR_OF_MOBILITY',\n",
    "    'TOTAL_LOSS_OF_ATTACHMENT_LEVEL'\n",
    "]]\n",
    "\n",
    "y = df[[\n",
    "    'HAS_PARODONTITIS'\n",
    "]]\n",
    "# df.head()"
   ],
   "metadata": {
    "collapsed": false
   }
  },
  {
   "cell_type": "markdown",
   "source": [
    "# Split train and test data"
   ],
   "metadata": {
    "collapsed": false
   }
  },
  {
   "cell_type": "code",
   "execution_count": 67,
   "outputs": [],
   "source": [
    "X_train, X_test, y_train, y_test = train_test_split(X, y, test_size=0.3, stratify=y, random_state=RANDOM_STATE)"
   ],
   "metadata": {
    "collapsed": false
   }
  },
  {
   "cell_type": "code",
   "execution_count": 68,
   "outputs": [
    {
     "name": "stdout",
     "output_type": "stream",
     "text": [
      "y_train: 66.26666666666667% without parodontitis\n",
      "y_test: 66.27624625053564% without parodontitis\n"
     ]
    }
   ],
   "source": [
    "y_train_without_parodontitis = y_train[y_train[\"HAS_PARODONTITIS\"] == 0]\n",
    "y_test_without_parodontitis = y_test[y_test[\"HAS_PARODONTITIS\"] == 0]\n",
    "\n",
    "print(f'y_train: {(100/len(y_train)) * len(y_train_without_parodontitis)}% without parodontitis')\n",
    "print(f'y_test: {(100/len(y_test)) * len(y_test_without_parodontitis)}% without parodontitis')"
   ],
   "metadata": {
    "collapsed": false
   }
  },
  {
   "cell_type": "markdown",
   "source": [
    "# Normalization"
   ],
   "metadata": {
    "collapsed": false
   }
  },
  {
   "cell_type": "code",
   "execution_count": 69,
   "outputs": [],
   "source": [
    "normalizer = Normalization(axis=-1)\n",
    "normalizer.adapt(np.array(X_train))"
   ],
   "metadata": {
    "collapsed": false
   }
  },
  {
   "cell_type": "markdown",
   "source": [
    "# Training"
   ],
   "metadata": {
    "collapsed": false
   }
  },
  {
   "cell_type": "code",
   "execution_count": 70,
   "outputs": [
    {
     "name": "stdout",
     "output_type": "stream",
     "text": [
      "Model: \"sequential_4\"\n",
      "_________________________________________________________________\n",
      " Layer (type)                Output Shape              Param #   \n",
      "=================================================================\n",
      " normalization_4 (Normalizat  (None, 5)                11        \n",
      " ion)                                                            \n",
      "                                                                 \n",
      " dense_8 (Dense)             (None, 10)                60        \n",
      "                                                                 \n",
      " dense_9 (Dense)             (None, 2)                 22        \n",
      "                                                                 \n",
      "=================================================================\n",
      "Total params: 93\n",
      "Trainable params: 82\n",
      "Non-trainable params: 11\n",
      "_________________________________________________________________\n"
     ]
    }
   ],
   "source": [
    "model = Sequential([\n",
    "    Input(shape=(X_train.shape[1],)),\n",
    "    normalizer,\n",
    "    Dense(10, activation='softmax'),\n",
    "    # Dense(, activation='softmax'),\n",
    "    Dense(2, activation='softmax')\n",
    "])\n",
    "\n",
    "model.compile(Adam(learning_rate=0.01), loss=SparseCategoricalCrossentropy(), metrics=['accuracy'])\n",
    "\n",
    "model.summary()"
   ],
   "metadata": {
    "collapsed": false
   }
  },
  {
   "cell_type": "code",
   "execution_count": 71,
   "outputs": [
    {
     "name": "stdout",
     "output_type": "stream",
     "text": [
      "Epoch 1/10\n",
      "85/85 [==============================] - 1s 4ms/step - loss: 0.3351 - accuracy: 0.9385 - val_loss: 0.1343 - val_accuracy: 0.9933\n",
      "Epoch 2/10\n",
      "85/85 [==============================] - 0s 2ms/step - loss: 0.0865 - accuracy: 0.9922 - val_loss: 0.0434 - val_accuracy: 0.9933\n",
      "Epoch 3/10\n",
      "85/85 [==============================] - 0s 2ms/step - loss: 0.0348 - accuracy: 0.9963 - val_loss: 0.0219 - val_accuracy: 0.9967\n",
      "Epoch 4/10\n",
      "85/85 [==============================] - 0s 2ms/step - loss: 0.0204 - accuracy: 0.9974 - val_loss: 0.0135 - val_accuracy: 1.0000\n",
      "Epoch 5/10\n",
      "85/85 [==============================] - 0s 2ms/step - loss: 0.0141 - accuracy: 0.9978 - val_loss: 0.0091 - val_accuracy: 1.0000\n",
      "Epoch 6/10\n",
      "85/85 [==============================] - 0s 2ms/step - loss: 0.0104 - accuracy: 0.9985 - val_loss: 0.0067 - val_accuracy: 1.0000\n",
      "Epoch 7/10\n",
      "85/85 [==============================] - 0s 2ms/step - loss: 0.0080 - accuracy: 0.9985 - val_loss: 0.0053 - val_accuracy: 1.0000\n",
      "Epoch 8/10\n",
      "85/85 [==============================] - 0s 2ms/step - loss: 0.0063 - accuracy: 0.9989 - val_loss: 0.0044 - val_accuracy: 1.0000\n",
      "Epoch 9/10\n",
      "85/85 [==============================] - 0s 2ms/step - loss: 0.0050 - accuracy: 0.9989 - val_loss: 0.0035 - val_accuracy: 1.0000\n",
      "Epoch 10/10\n",
      "85/85 [==============================] - 0s 2ms/step - loss: 0.0040 - accuracy: 0.9996 - val_loss: 0.0028 - val_accuracy: 1.0000\n"
     ]
    }
   ],
   "source": [
    "history = model.fit(X_train, y_train, epochs=10, validation_split=0.1)"
   ],
   "metadata": {
    "collapsed": false
   }
  },
  {
   "cell_type": "markdown",
   "source": [
    "# Performance evaluation"
   ],
   "metadata": {
    "collapsed": false
   }
  },
  {
   "cell_type": "code",
   "execution_count": 72,
   "outputs": [
    {
     "data": {
      "text/plain": "<Figure size 640x480 with 1 Axes>",
      "image/png": "[encoded data removed]"
     },
     "metadata": {},
     "output_type": "display_data"
    }
   ],
   "source": [
    "plt.plot(history.history[\"loss\"], label = \"loss\")\n",
    "plt.plot(history.history[\"val_loss\"], label = \"validation loss\")\n",
    "plt.xlabel(\"Epochs\")\n",
    "plt.ylabel(\"Loss\")\n",
    "plt.legend()\n",
    "plt.title(\"Change of training and validation loss over time\")\n",
    "plt.show()"
   ],
   "metadata": {
    "collapsed": false
   }
  },
  {
   "cell_type": "markdown",
   "source": [
    "# Saving the model"
   ],
   "metadata": {
    "collapsed": false
   }
  },
  {
   "cell_type": "code",
   "execution_count": 73,
   "outputs": [],
   "source": [
    "# now = datetime.now()\n",
    "# formatted_date = now.strftime('%Y%m%d%H%M%S')\n",
    "# model.save(f'../models/model-{formatted_date}.h5')\n",
    "# print(f'Model saved: model-{formatted_date}.h5')"
   ],
   "metadata": {
    "collapsed": false
   }
  },
  {
   "cell_type": "markdown",
   "source": [
    "## Validation using the test set"
   ],
   "metadata": {
    "collapsed": false
   }
  },
  {
   "cell_type": "code",
   "execution_count": 74,
   "outputs": [
    {
     "name": "stdout",
     "output_type": "stream",
     "text": [
      "219/219 [==============================] - 0s 1ms/step\n"
     ]
    }
   ],
   "source": [
    "result = model.predict(X_test)\n",
    "result = pd.DataFrame(result)\n",
    "\n",
    "result['PREDICTION'] = result.apply(lambda x: 0 if x.loc[0] > x.loc[1] else 1, axis=1)\n",
    "\n",
    "y_test = y_test.reset_index()\n",
    "y_test['PREDICTION'] = result['PREDICTION']\n",
    "\n",
    "validation_result = y_test[['PREDICTION', 'HAS_PARODONTITIS']]"
   ],
   "metadata": {
    "collapsed": false
   }
  },
  {
   "cell_type": "code",
   "execution_count": 75,
   "outputs": [
    {
     "name": "stdout",
     "output_type": "stream",
     "text": [
      "Predicted wrong: 5/7001\n"
     ]
    }
   ],
   "source": [
    "wrong_prediction = validation_result[validation_result[\"HAS_PARODONTITIS\"] != validation_result['PREDICTION']]\n",
    "print(f\"Predicted wrong: {len(wrong_prediction)}/{len(validation_result)}\")"
   ],
   "metadata": {
    "collapsed": false
   }
  }
 ],
 "metadata": {
  "kernelspec": {
   "display_name": "Python 3",
   "language": "python",
   "name": "python3"
  },
  "language_info": {
   "codemirror_mode": {
    "name": "ipython",
    "version": 2
   },
   "file_extension": ".py",
   "mimetype": "text/x-python",
   "name": "python",
   "nbconvert_exporter": "python",
   "pygments_lexer": "ipython2",
   "version": "2.7.6"
  }
 },
 "nbformat": 4,
 "nbformat_minor": 0
}
