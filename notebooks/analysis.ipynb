{
 "cells": [
  {
   "cell_type": "markdown",
   "source": [
    "# Imports"
   ],
   "metadata": {
    "collapsed": false
   }
  },
  {
   "cell_type": "code",
   "execution_count": 4,
   "metadata": {
    "collapsed": true
   },
   "outputs": [],
   "source": [
    "from scripts.extract import convert_xml_to_dataframe"
   ]
  },
  {
   "cell_type": "markdown",
   "source": [
    "# Read data"
   ],
   "metadata": {
    "collapsed": false
   }
  },
  {
   "cell_type": "code",
   "execution_count": 5,
   "outputs": [],
   "source": [
    "df = convert_xml_to_dataframe()"
   ],
   "metadata": {
    "collapsed": false
   }
  },
  {
   "cell_type": "code",
   "execution_count": 6,
   "outputs": [
    {
     "data": {
      "text/plain": "  PATIENT_ID  SEX  BIRTH_DATE  VISIT_DATE TREATING_PROVIDER  \\\n0    5999976  man  28-02-1960  14-01-2007           dentist   \n1    5999977  man  28-02-1960  14-01-2007           dentist   \n2    5999978  man  28-02-1960  14-01-2007           dentist   \n3    5999979  man  28-02-1960  14-01-2007           dentist   \n4    5999980  man  28-02-1960  14-01-2007           dentist   \n\n   BLEEDING_ON_PROBING  NR_OF_POCKET  NR_OF_FURCATION  NR_OF_MOBILITY  \\\n0                   20             2                0               0   \n1                   20             2                0               0   \n2                   20             2                0               0   \n3                   20             2                0               0   \n4                   20             2                0               0   \n\n   TOTAL_LOSS_OF_ATTACHMENT_LEVEL  HAS_PARODONTITIS  \n0                               0              True  \n1                               0             False  \n2                               0             False  \n3                               0              True  \n4                               0              True  ",
      "text/html": "<div>\n<style scoped>\n    .dataframe tbody tr th:only-of-type {\n        vertical-align: middle;\n    }\n\n    .dataframe tbody tr th {\n        vertical-align: top;\n    }\n\n    .dataframe thead th {\n        text-align: right;\n    }\n</style>\n<table border=\"1\" class=\"dataframe\">\n  <thead>\n    <tr style=\"text-align: right;\">\n      <th></th>\n      <th>PATIENT_ID</th>\n      <th>SEX</th>\n      <th>BIRTH_DATE</th>\n      <th>VISIT_DATE</th>\n      <th>TREATING_PROVIDER</th>\n      <th>BLEEDING_ON_PROBING</th>\n      <th>NR_OF_POCKET</th>\n      <th>NR_OF_FURCATION</th>\n      <th>NR_OF_MOBILITY</th>\n      <th>TOTAL_LOSS_OF_ATTACHMENT_LEVEL</th>\n      <th>HAS_PARODONTITIS</th>\n    </tr>\n  </thead>\n  <tbody>\n    <tr>\n      <th>0</th>\n      <td>5999976</td>\n      <td>man</td>\n      <td>28-02-1960</td>\n      <td>14-01-2007</td>\n      <td>dentist</td>\n      <td>20</td>\n      <td>2</td>\n      <td>0</td>\n      <td>0</td>\n      <td>0</td>\n      <td>True</td>\n    </tr>\n    <tr>\n      <th>1</th>\n      <td>5999977</td>\n      <td>man</td>\n      <td>28-02-1960</td>\n      <td>14-01-2007</td>\n      <td>dentist</td>\n      <td>20</td>\n      <td>2</td>\n      <td>0</td>\n      <td>0</td>\n      <td>0</td>\n      <td>False</td>\n    </tr>\n    <tr>\n      <th>2</th>\n      <td>5999978</td>\n      <td>man</td>\n      <td>28-02-1960</td>\n      <td>14-01-2007</td>\n      <td>dentist</td>\n      <td>20</td>\n      <td>2</td>\n      <td>0</td>\n      <td>0</td>\n      <td>0</td>\n      <td>False</td>\n    </tr>\n    <tr>\n      <th>3</th>\n      <td>5999979</td>\n      <td>man</td>\n      <td>28-02-1960</td>\n      <td>14-01-2007</td>\n      <td>dentist</td>\n      <td>20</td>\n      <td>2</td>\n      <td>0</td>\n      <td>0</td>\n      <td>0</td>\n      <td>True</td>\n    </tr>\n    <tr>\n      <th>4</th>\n      <td>5999980</td>\n      <td>man</td>\n      <td>28-02-1960</td>\n      <td>14-01-2007</td>\n      <td>dentist</td>\n      <td>20</td>\n      <td>2</td>\n      <td>0</td>\n      <td>0</td>\n      <td>0</td>\n      <td>True</td>\n    </tr>\n  </tbody>\n</table>\n</div>"
     },
     "execution_count": 6,
     "metadata": {},
     "output_type": "execute_result"
    }
   ],
   "source": [
    "df.head()"
   ],
   "metadata": {
    "collapsed": false
   }
  },
  {
   "cell_type": "code",
   "execution_count": null,
   "outputs": [],
   "source": [],
   "metadata": {
    "collapsed": false
   }
  }
 ],
 "metadata": {
  "kernelspec": {
   "display_name": "Python 3",
   "language": "python",
   "name": "python3"
  },
  "language_info": {
   "codemirror_mode": {
    "name": "ipython",
    "version": 2
   },
   "file_extension": ".py",
   "mimetype": "text/x-python",
   "name": "python",
   "nbconvert_exporter": "python",
   "pygments_lexer": "ipython2",
   "version": "2.7.6"
  }
 },
 "nbformat": 4,
 "nbformat_minor": 0
}
