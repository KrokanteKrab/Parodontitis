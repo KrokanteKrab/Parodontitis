{
 "cells": [
  {
   "cell_type": "markdown",
   "source": [
    "# Imports"
   ],
   "metadata": {
    "collapsed": false
   }
  },
  {
   "cell_type": "code",
   "execution_count": 94,
   "metadata": {
    "collapsed": true
   },
   "outputs": [],
   "source": [
    "import sys\n",
    "sys.path.append('..')\n",
    "from scripts.extract import convert_xml_to_dataframe\n",
    "from pathlib import Path\n",
    "\n",
    "import pandas as pd\n",
    "import random"
   ]
  },
  {
   "cell_type": "code",
   "execution_count": 95,
   "outputs": [],
   "source": [
    "random.seed(1) # <- Training\n",
    "# random.seed(2) # <- Validation"
   ],
   "metadata": {
    "collapsed": false
   }
  },
  {
   "cell_type": "markdown",
   "source": [
    "# Read data from xml"
   ],
   "metadata": {
    "collapsed": false
   }
  },
  {
   "cell_type": "code",
   "execution_count": 96,
   "outputs": [],
   "source": [
    "df = convert_xml_to_dataframe(path='../data/patients-original.xml')"
   ],
   "metadata": {
    "collapsed": false
   }
  },
  {
   "cell_type": "markdown",
   "source": [
    "## Version 2 Generator"
   ],
   "metadata": {
    "collapsed": false
   }
  },
  {
   "cell_type": "code",
   "execution_count": 99,
   "outputs": [
    {
     "data": {
      "text/plain": "Empty DataFrame\nColumns: [PATIENT_ID, SEX, BIRTH_DATE, VISIT_DATE, BLEEDING_ON_PROBING, NR_OF_POCKET, NR_OF_FURCATION, NR_OF_MOBILITY, TOTAL_LOSS_OF_ATTACHMENT_LEVEL, HAS_PARODONTITIS, PROCEDURE_A, PROCEDURE_B, TREATING_PROVIDER_DENTIST, TREATING_PROVIDER_FACULTY, TREATING_PROVIDER_STUDENT]\nIndex: []",
      "text/html": "<div>\n<style scoped>\n    .dataframe tbody tr th:only-of-type {\n        vertical-align: middle;\n    }\n\n    .dataframe tbody tr th {\n        vertical-align: top;\n    }\n\n    .dataframe thead th {\n        text-align: right;\n    }\n</style>\n<table border=\"1\" class=\"dataframe\">\n  <thead>\n    <tr style=\"text-align: right;\">\n      <th></th>\n      <th>PATIENT_ID</th>\n      <th>SEX</th>\n      <th>BIRTH_DATE</th>\n      <th>VISIT_DATE</th>\n      <th>BLEEDING_ON_PROBING</th>\n      <th>NR_OF_POCKET</th>\n      <th>NR_OF_FURCATION</th>\n      <th>NR_OF_MOBILITY</th>\n      <th>TOTAL_LOSS_OF_ATTACHMENT_LEVEL</th>\n      <th>HAS_PARODONTITIS</th>\n      <th>PROCEDURE_A</th>\n      <th>PROCEDURE_B</th>\n      <th>TREATING_PROVIDER_DENTIST</th>\n      <th>TREATING_PROVIDER_FACULTY</th>\n      <th>TREATING_PROVIDER_STUDENT</th>\n    </tr>\n  </thead>\n  <tbody>\n  </tbody>\n</table>\n</div>"
     },
     "execution_count": 99,
     "metadata": {},
     "output_type": "execute_result"
    }
   ],
   "source": [
    "# Add boolean for procedures to the dataframe\n",
    "df['PROCEDURE_A'] = [0]\n",
    "df['PROCEDURE_B'] = [0]\n",
    "df['TREATING_PROVIDER_DENTIST'] = [1]\n",
    "df['TREATING_PROVIDER_FACULTY'] = [0]\n",
    "df['TREATING_PROVIDER_STUDENT'] = [0]\n",
    "df = df.drop(['TREATING_PROVIDER'], axis=1)\n",
    "df = df.drop(0)\n",
    "df.head()"
   ],
   "metadata": {
    "collapsed": false
   }
  },
  {
   "cell_type": "code",
   "execution_count": 103,
   "outputs": [],
   "source": [
    "for i in range(10000):\n",
    "    has_parodontitis = random.randint(0, 2)\n",
    "    patient_id = 5999977 + i\n",
    "    treating_provider = random.choice(['dentist', 'faculty', 'student'])\n",
    "\n",
    "    # Procedures\n",
    "    procedures_a = 0\n",
    "    procedures_b = random.randint(0, 1)\n",
    "\n",
    "    row = {\n",
    "        'PATIENT_ID': patient_id,\n",
    "        'SEX': random.choice(['female', 'male']),\n",
    "        'BIRTH_DATE': '29-02-1960',\n",
    "        'VISIT_DATE': '15-01-2008',\n",
    "        'TREATING_PROVIDER_DENTIST': int(treating_provider == 'dentist' if 1 else 0),\n",
    "        'TREATING_PROVIDER_FACULTY': int(treating_provider == 'faculty' if 1 else 0),\n",
    "        'TREATING_PROVIDER_STUDENT': int(treating_provider == 'student' if 1 else 0),\n",
    "        'PROCEDURE_A': procedures_a,\n",
    "        'PROCEDURE_B': procedures_b,\n",
    "        'BLEEDING_ON_PROBING': random.randint(0, 25),       # percentage of bleeding (0-100)\n",
    "        'NR_OF_POCKET': random.randint(0, 1),               # scale 0-4\n",
    "        'NR_OF_FURCATION': 0,                               # >0 parodontitis, scale 0-5\n",
    "        'NR_OF_MOBILITY': random.randint(0, 1),\n",
    "        'TOTAL_LOSS_OF_ATTACHMENT_LEVEL': 0,\n",
    "        'HAS_PARODONTITIS': 0\n",
    "    }\n",
    "\n",
    "    if has_parodontitis == 1:\n",
    "        row['PROCEDURE_A'] = 1\n",
    "        row['BLEEDING_ON_PROBING'] = random.randint(20, 100)\n",
    "        row['NR_OF_POCKET'] = random.randint(1, 4)\n",
    "        row['NR_OF_FURCATION'] = random.randint(1, 5)\n",
    "        row['NR_OF_MOBILITY'] = random.randint(2, 3)\n",
    "        row['TOTAL_LOSS_OF_ATTACHMENT_LEVEL'] = random.randint(1, 3)\n",
    "        row['HAS_PARODONTITIS'] = 1\n",
    "\n",
    "    new_record = pd.DataFrame(row, index=[0])\n",
    "    df = pd.concat([df, new_record], ignore_index=True)"
   ],
   "metadata": {
    "collapsed": false
   }
  },
  {
   "cell_type": "markdown",
   "source": [
    "## Check amount of total people having parodontitis"
   ],
   "metadata": {
    "collapsed": false
   }
  },
  {
   "cell_type": "code",
   "execution_count": 104,
   "outputs": [
    {
     "name": "stdout",
     "output_type": "stream",
     "text": [
      "People without parodontitis: 6638\n",
      "People with parodontitis: 3372\n"
     ]
    }
   ],
   "source": [
    "amount_of_people_without_parodontitis = df[df[\"HAS_PARODONTITIS\"] == 0]\n",
    "amount_of_people_with_parodontitis = df[df[\"HAS_PARODONTITIS\"] == 1]\n",
    "print(f'People without parodontitis: {len(amount_of_people_without_parodontitis)}')\n",
    "print(f'People with parodontitis: {len(amount_of_people_with_parodontitis)}')"
   ],
   "metadata": {
    "collapsed": false
   }
  },
  {
   "cell_type": "code",
   "execution_count": 105,
   "outputs": [],
   "source": [
    "filepath = Path('../data/patients-v2.csv')\n",
    "filepath.parent.mkdir(parents=True, exist_ok=True)\n",
    "df.to_csv(filepath, index=False)"
   ],
   "metadata": {
    "collapsed": false
   }
  }
 ],
 "metadata": {
  "kernelspec": {
   "display_name": "Python 3",
   "language": "python",
   "name": "python3"
  },
  "language_info": {
   "codemirror_mode": {
    "name": "ipython",
    "version": 2
   },
   "file_extension": ".py",
   "mimetype": "text/x-python",
   "name": "python",
   "nbconvert_exporter": "python",
   "pygments_lexer": "ipython2",
   "version": "2.7.6"
  }
 },
 "nbformat": 4,
 "nbformat_minor": 0
}
