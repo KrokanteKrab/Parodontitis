{
 "cells": [
  {
   "cell_type": "markdown",
   "source": [
    "# Imports"
   ],
   "metadata": {
    "collapsed": false
   }
  },
  {
   "cell_type": "code",
   "execution_count": 1,
   "metadata": {
    "collapsed": true
   },
   "outputs": [],
   "source": [
    "from scripts.extract import convert_xml_to_dataframe\n",
    "from pathlib import Path\n",
    "\n",
    "import pandas as pd\n",
    "import random"
   ]
  },
  {
   "cell_type": "code",
   "execution_count": 2,
   "outputs": [],
   "source": [
    "# random.seed(1) # <- Training\n",
    "random.seed(2) # <- Validation"
   ],
   "metadata": {
    "collapsed": false
   }
  },
  {
   "cell_type": "markdown",
   "source": [
    "# Read data from xml"
   ],
   "metadata": {
    "collapsed": false
   }
  },
  {
   "cell_type": "code",
   "execution_count": 3,
   "outputs": [],
   "source": [
    "df = convert_xml_to_dataframe(path='../data/patients-original.xml')"
   ],
   "metadata": {
    "collapsed": false
   }
  },
  {
   "cell_type": "markdown",
   "source": [
    "## Generate new records"
   ],
   "metadata": {
    "collapsed": false
   }
  },
  {
   "cell_type": "code",
   "execution_count": 4,
   "outputs": [],
   "source": [
    "for i in range(10000):\n",
    "    has_parodontitis = random.randint(0, 2)\n",
    "    patient_id = 5999977 + i\n",
    "\n",
    "    if has_parodontitis == 1:\n",
    "        row = {\n",
    "            'PATIENT_ID': patient_id,\n",
    "            'SEX': random.choice(['female', 'male']),\n",
    "            'BIRTH_DATE': '29-02-1960',\n",
    "            'VISIT_DATE': '15-01-2008',\n",
    "            'TREATING_PROVIDER': 'dentist',\n",
    "            'BLEEDING_ON_PROBING': random.randint(1, 100),\n",
    "            'NR_OF_POCKET': random.randint(1, (4*2)),\n",
    "            'NR_OF_FURCATION': random.randint(0, 5),\n",
    "            'NR_OF_MOBILITY': 0,\n",
    "            'TOTAL_LOSS_OF_ATTACHMENT_LEVEL': 0,\n",
    "            'HAS_PARODONTITIS': 1\n",
    "        }\n",
    "\n",
    "    else:\n",
    "        row = {\n",
    "            'PATIENT_ID': patient_id,\n",
    "            'SEX': random.choice(['female', 'male']),\n",
    "            'BIRTH_DATE': '29-02-1960',\n",
    "            'VISIT_DATE': '15-01-2008',\n",
    "            'TREATING_PROVIDER': 'dentist',\n",
    "            'BLEEDING_ON_PROBING': 0,\n",
    "            'NR_OF_POCKET': 0,\n",
    "            'NR_OF_FURCATION': 0,\n",
    "            'NR_OF_MOBILITY': 0,\n",
    "            'TOTAL_LOSS_OF_ATTACHMENT_LEVEL': 0,\n",
    "            'HAS_PARODONTITIS': 0\n",
    "        }\n",
    "\n",
    "    new_record = pd.DataFrame(row, index=[0])\n",
    "    df = pd.concat([df, new_record], ignore_index=True)"
   ],
   "metadata": {
    "collapsed": false
   }
  },
  {
   "cell_type": "code",
   "execution_count": 5,
   "outputs": [
    {
     "data": {
      "text/plain": "  PATIENT_ID     SEX  BIRTH_DATE  VISIT_DATE TREATING_PROVIDER  \\\n0    5999976     man  28-02-1960  14-01-2007           dentist   \n1    5999977  female  29-02-1960  15-01-2008           dentist   \n2    5999978    male  29-02-1960  15-01-2008           dentist   \n3    5999979    male  29-02-1960  15-01-2008           dentist   \n4    5999980  female  29-02-1960  15-01-2008           dentist   \n\n   BLEEDING_ON_PROBING  NR_OF_POCKET  NR_OF_FURCATION  NR_OF_MOBILITY  \\\n0                   20             2                0               0   \n1                    0             0                0               0   \n2                    0             0                0               0   \n3                    0             0                0               0   \n4                   78             1                4               0   \n\n   TOTAL_LOSS_OF_ATTACHMENT_LEVEL  HAS_PARODONTITIS  \n0                               0                 1  \n1                               0                 0  \n2                               0                 0  \n3                               0                 0  \n4                               0                 1  ",
      "text/html": "<div>\n<style scoped>\n    .dataframe tbody tr th:only-of-type {\n        vertical-align: middle;\n    }\n\n    .dataframe tbody tr th {\n        vertical-align: top;\n    }\n\n    .dataframe thead th {\n        text-align: right;\n    }\n</style>\n<table border=\"1\" class=\"dataframe\">\n  <thead>\n    <tr style=\"text-align: right;\">\n      <th></th>\n      <th>PATIENT_ID</th>\n      <th>SEX</th>\n      <th>BIRTH_DATE</th>\n      <th>VISIT_DATE</th>\n      <th>TREATING_PROVIDER</th>\n      <th>BLEEDING_ON_PROBING</th>\n      <th>NR_OF_POCKET</th>\n      <th>NR_OF_FURCATION</th>\n      <th>NR_OF_MOBILITY</th>\n      <th>TOTAL_LOSS_OF_ATTACHMENT_LEVEL</th>\n      <th>HAS_PARODONTITIS</th>\n    </tr>\n  </thead>\n  <tbody>\n    <tr>\n      <th>0</th>\n      <td>5999976</td>\n      <td>man</td>\n      <td>28-02-1960</td>\n      <td>14-01-2007</td>\n      <td>dentist</td>\n      <td>20</td>\n      <td>2</td>\n      <td>0</td>\n      <td>0</td>\n      <td>0</td>\n      <td>1</td>\n    </tr>\n    <tr>\n      <th>1</th>\n      <td>5999977</td>\n      <td>female</td>\n      <td>29-02-1960</td>\n      <td>15-01-2008</td>\n      <td>dentist</td>\n      <td>0</td>\n      <td>0</td>\n      <td>0</td>\n      <td>0</td>\n      <td>0</td>\n      <td>0</td>\n    </tr>\n    <tr>\n      <th>2</th>\n      <td>5999978</td>\n      <td>male</td>\n      <td>29-02-1960</td>\n      <td>15-01-2008</td>\n      <td>dentist</td>\n      <td>0</td>\n      <td>0</td>\n      <td>0</td>\n      <td>0</td>\n      <td>0</td>\n      <td>0</td>\n    </tr>\n    <tr>\n      <th>3</th>\n      <td>5999979</td>\n      <td>male</td>\n      <td>29-02-1960</td>\n      <td>15-01-2008</td>\n      <td>dentist</td>\n      <td>0</td>\n      <td>0</td>\n      <td>0</td>\n      <td>0</td>\n      <td>0</td>\n      <td>0</td>\n    </tr>\n    <tr>\n      <th>4</th>\n      <td>5999980</td>\n      <td>female</td>\n      <td>29-02-1960</td>\n      <td>15-01-2008</td>\n      <td>dentist</td>\n      <td>78</td>\n      <td>1</td>\n      <td>4</td>\n      <td>0</td>\n      <td>0</td>\n      <td>1</td>\n    </tr>\n  </tbody>\n</table>\n</div>"
     },
     "execution_count": 5,
     "metadata": {},
     "output_type": "execute_result"
    }
   ],
   "source": [
    "df.head()"
   ],
   "metadata": {
    "collapsed": false
   }
  },
  {
   "cell_type": "code",
   "execution_count": 6,
   "outputs": [
    {
     "name": "stdout",
     "output_type": "stream",
     "text": [
      "People without parodontitis: 6640\n",
      "People with parodontitis: 3361\n"
     ]
    }
   ],
   "source": [
    "amount_of_people_without_parodontitis = df[df[\"HAS_PARODONTITIS\"] == 0]\n",
    "amount_of_people_with_parodontitis = df[df[\"HAS_PARODONTITIS\"] == 1]\n",
    "print(f'People without parodontitis: {len(amount_of_people_without_parodontitis)}')\n",
    "print(f'People with parodontitis: {len(amount_of_people_with_parodontitis)}')"
   ],
   "metadata": {
    "collapsed": false
   }
  },
  {
   "cell_type": "code",
   "execution_count": 7,
   "outputs": [],
   "source": [
    "filepath = Path('../data/patients-validation.csv')\n",
    "filepath.parent.mkdir(parents=True, exist_ok=True)\n",
    "df.to_csv(filepath, index=False)"
   ],
   "metadata": {
    "collapsed": false
   }
  }
 ],
 "metadata": {
  "kernelspec": {
   "display_name": "Python 3",
   "language": "python",
   "name": "python3"
  },
  "language_info": {
   "codemirror_mode": {
    "name": "ipython",
    "version": 2
   },
   "file_extension": ".py",
   "mimetype": "text/x-python",
   "name": "python",
   "nbconvert_exporter": "python",
   "pygments_lexer": "ipython2",
   "version": "2.7.6"
  }
 },
 "nbformat": 4,
 "nbformat_minor": 0
}
